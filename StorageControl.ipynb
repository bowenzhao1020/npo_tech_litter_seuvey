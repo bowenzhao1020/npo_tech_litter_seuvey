{
 "cells": [
  {
   "cell_type": "markdown",
   "metadata": {},
   "source": [
    "# Storage Control For Litter Survey"
   ]
  },
  {
   "cell_type": "markdown",
   "metadata": {},
   "source": [
    "Library Import"
   ]
  },
  {
   "cell_type": "code",
   "execution_count": 1,
   "metadata": {},
   "outputs": [],
   "source": [
    "# Azure storage system\n",
    "from azure.storage.blob import BlobServiceClient, BlobClient, ContainerClient\n",
    "\n",
    "# MySQL Database\n",
    "import mysql.connector\n",
    "\n",
    "# Azure api encrypt data file\n",
    "import authInfo"
   ]
  },
  {
   "cell_type": "markdown",
   "metadata": {},
   "source": [
    "Connect blob Storage"
   ]
  },
  {
   "cell_type": "code",
   "execution_count": 2,
   "metadata": {},
   "outputs": [],
   "source": [
    "# load api access variable\n",
    "account_name = authInfo.azure_account_name\n",
    "account_key = authInfo.azure_account_key\n",
    "container_name = authInfo.azure_container_name\n",
    "\n",
    "# Create Blob Service Client\n",
    "blob_service_client = BlobServiceClient(account_url = f\"https://{account_name}.blob.core.windows.net\", credential = account_key)\n",
    "# Create a Container Client\n",
    "container_client = blob_service_client.get_container_client(container_name)"
   ]
  },
  {
   "cell_type": "markdown",
   "metadata": {},
   "source": [
    "Connection to MySQL Database"
   ]
  },
  {
   "cell_type": "code",
   "execution_count": 3,
   "metadata": {},
   "outputs": [
    {
     "name": "stdout",
     "output_type": "stream",
     "text": [
      "littersurveydata\n"
     ]
    }
   ],
   "source": [
    "mysql_host = authInfo.sql_host\n",
    "mysql_user = authInfo.sql_user\n",
    "mysql_password = authInfo.sql_password\n",
    "mysql_database = authInfo.sql_database\n",
    "\n",
    "print(mysql_database)\n",
    "\n",
    "db_config = {\n",
    "    'host' : authInfo.sql_host,\n",
    "    'user' : authInfo.sql_user,\n",
    "    'password' : authInfo.sql_password,\n",
    "    'database' : authInfo.sql_database\n",
    "}\n",
    "\n",
    "# Establish a connection\n",
    "connection = mysql.connector.connect(**db_config)\n",
    "\n",
    "# Create a cursor object\n",
    "cursor = connection.cursor()"
   ]
  },
  {
   "cell_type": "markdown",
   "metadata": {},
   "source": [
    "Get data info from cloud"
   ]
  },
  {
   "cell_type": "code",
   "execution_count": 4,
   "metadata": {},
   "outputs": [
    {
     "name": "stdout",
     "output_type": "stream",
     "text": [
      "photo-2917_singular_display_fullPicture.jpeg\n",
      "photo-2933_singular_display_fullPicture.jpeg\n",
      "photo-2949_singular_display_fullPicture.jpeg\n",
      "photo-2965_singular_display_fullPicture.jpeg\n",
      "photo-2979_singular_display_fullPicture.jpeg\n",
      "photo-2993_singular_display_fullPicture.jpeg\n",
      "photo-3004_singular_display_fullPicture.jpeg\n",
      "photo-3018_singular_display_fullPicture.jpeg\n",
      "photo-3032_singular_display_fullPicture.jpeg\n",
      "photo-3042_singular_display_fullPicture.jpeg\n",
      "photo-3054_singular_display_fullPicture.jpeg\n",
      "photo-3067_singular_display_fullPicture.jpeg\n",
      "photo-3080_singular_display_fullPicture.jpeg\n",
      "photo-3093_singular_display_fullPicture.jpeg\n",
      "photo-3105_singular_display_fullPicture.jpeg\n",
      "photo-3117_singular_display_fullPicture.jpeg\n",
      "photo-3132_singular_display_fullPicture.jpeg\n",
      "photo-3147_singular_display_fullPicture.jpeg\n",
      "photo-3158_singular_display_fullPicture.jpeg\n",
      "photo-3164_singular_display_fullPicture.jpeg\n",
      "photo-3167_singular_display_fullPicture.jpeg\n",
      "photo-3171_singular_display_fullPicture.jpeg\n",
      "photo-3174_singular_display_fullPicture.jpeg\n",
      "photo-3178_singular_display_fullPicture.jpeg\n",
      "photo-3182_singular_display_fullPicture.jpeg\n",
      "photo-3187_singular_display_fullPicture.jpeg\n",
      "photo-3190_singular_display_fullPicture.jpeg\n",
      "photo-3193_singular_display_fullPicture.jpeg\n",
      "photo-3197_singular_display_fullPicture.jpeg\n",
      "photo-3202_singular_display_fullPicture.jpeg\n",
      "photo-3205_singular_display_fullPicture.jpeg\n",
      "photo-3208_singular_display_fullPicture.jpeg\n",
      "photo-3211_singular_display_fullPicture.jpeg\n",
      "photo-3214_singular_display_fullPicture.jpeg\n",
      "photo-3219_singular_display_fullPicture.jpeg\n",
      "photo-3222_singular_display_fullPicture.jpeg\n",
      "photo-3225_singular_display_fullPicture.jpeg\n",
      "photo-3228_singular_display_fullPicture.jpeg\n",
      "photo-3231_singular_display_fullPicture.jpeg\n",
      "photo-3234_singular_display_fullPicture.jpeg\n",
      "photo-3237_singular_display_fullPicture.jpeg\n",
      "photo-3240_singular_display_fullPicture.jpeg\n",
      "photo-3245_singular_display_fullPicture.jpeg\n",
      "photo-3248_singular_display_fullPicture.jpeg\n",
      "photo-3251_singular_display_fullPicture.jpeg\n",
      "photo-3254_singular_display_fullPicture.jpeg\n",
      "photo-3257_singular_display_fullPicture.jpeg\n",
      "photo-3260_singular_display_fullPicture.jpeg\n",
      "photo-3263_singular_display_fullPicture.jpeg\n",
      "photo-3266_singular_display_fullPicture.jpeg\n",
      "photo-3269_singular_display_fullPicture.jpeg\n",
      "photo-3272_singular_display_fullPicture.jpeg\n",
      "photo-3275_singular_display_fullPicture.jpeg\n",
      "photo-3278_singular_display_fullPicture.jpeg\n",
      "photo-3281_singular_display_fullPicture.jpeg\n",
      "photo-3284_singular_display_fullPicture.jpeg\n",
      "photo-3287_singular_display_fullPicture.jpeg\n",
      "photo-3290_singular_display_fullPicture.jpeg\n",
      "photo-3293_singular_display_fullPicture.jpeg\n",
      "photo-3296_singular_display_fullPicture.jpeg\n",
      "photo-3299_singular_display_fullPicture.jpeg\n",
      "photo-3302_singular_display_fullPicture.jpeg\n",
      "photo-3305_singular_display_fullPicture.jpeg\n",
      "photo-3308_singular_display_fullPicture.jpeg\n",
      "photo-3311_singular_display_fullPicture.jpeg\n",
      "photo-3314_singular_display_fullPicture.jpeg\n",
      "photo-3317_singular_display_fullPicture.jpeg\n",
      "photo-3320_singular_display_fullPicture.jpeg\n",
      "photo-3323_singular_display_fullPicture.jpeg\n",
      "photo-3326_singular_display_fullPicture.jpeg\n",
      "photo-3329_singular_display_fullPicture.jpeg\n",
      "photo-3332_singular_display_fullPicture.jpeg\n",
      "photo-3335_singular_display_fullPicture.jpeg\n",
      "photo-3338_singular_display_fullPicture.jpeg\n",
      "photo-3341_singular_display_fullPicture.jpeg\n",
      "photo-3344_singular_display_fullPicture.jpeg\n",
      "photo-3347_singular_display_fullPicture.jpeg\n",
      "photo-3350_singular_display_fullPicture.jpeg\n",
      "photo-3353_singular_display_fullPicture.jpeg\n",
      "photo-3356_singular_display_fullPicture.jpeg\n",
      "photo-3359_singular_display_fullPicture.jpeg\n",
      "photo-3362_singular_display_fullPicture.jpeg\n",
      "photo-3365_singular_display_fullPicture.jpeg\n",
      "photo-3368_singular_display_fullPicture.jpeg\n",
      "photo-3371_singular_display_fullPicture.jpeg\n",
      "photo-3374_singular_display_fullPicture.jpeg\n",
      "photo-3377_singular_display_fullPicture.jpeg\n",
      "photo-3380_singular_display_fullPicture.jpeg\n",
      "photo-3383_singular_display_fullPicture.jpeg\n",
      "photo-3386_singular_display_fullPicture.jpeg\n",
      "photo-3389_singular_display_fullPicture.jpeg\n",
      "photo-3392_singular_display_fullPicture.jpeg\n",
      "photo-3395_singular_display_fullPicture.jpeg\n",
      "photo-3398_singular_display_fullPicture.jpeg\n",
      "photo-3401_singular_display_fullPicture.jpeg\n",
      "photo-3404_singular_display_fullPicture.jpeg\n",
      "photo-3407_singular_display_fullPicture.jpeg\n",
      "photo-3410_singular_display_fullPicture.jpeg\n",
      "photo-3413_singular_display_fullPicture.jpeg\n",
      "photo-3416_singular_display_fullPicture.jpeg\n",
      "photo-3419_singular_display_fullPicture.jpeg\n",
      "photo-3422_singular_display_fullPicture.jpeg\n",
      "photo-3425_singular_display_fullPicture.jpeg\n",
      "photo-3428_singular_display_fullPicture.jpeg\n",
      "photo-3431_singular_display_fullPicture.jpeg\n",
      "photo-3434_singular_display_fullPicture.jpeg\n",
      "photo-3437_singular_display_fullPicture.jpeg\n",
      "photo-3440_singular_display_fullPicture.jpeg\n",
      "photo-3443_singular_display_fullPicture.jpeg\n",
      "photo-3446_singular_display_fullPicture.jpeg\n",
      "photo-3449_singular_display_fullPicture.jpeg\n",
      "photo-3452_singular_display_fullPicture.jpeg\n",
      "photo-3455_singular_display_fullPicture.jpeg\n",
      "photo-3458_singular_display_fullPicture.jpeg\n",
      "photo-3461_singular_display_fullPicture.jpeg\n",
      "photo-3464_singular_display_fullPicture.jpeg\n",
      "photo-3467_singular_display_fullPicture.jpeg\n",
      "photo-3470_singular_display_fullPicture.jpeg\n",
      "photo-3473_singular_display_fullPicture.jpeg\n",
      "photo-3476_singular_display_fullPicture.jpeg\n",
      "photo-3479_singular_display_fullPicture.jpeg\n",
      "photo-3482_singular_display_fullPicture.jpeg\n",
      "photo-3485_singular_display_fullPicture.jpeg\n",
      "photo-3488_singular_display_fullPicture.jpeg\n",
      "photo-3491_singular_display_fullPicture.jpeg\n",
      "photo-3494_singular_display_fullPicture.jpeg\n",
      "photo-3497_singular_display_fullPicture.jpeg\n",
      "photo-3500_singular_display_fullPicture.jpeg\n",
      "photo-3503_singular_display_fullPicture.jpeg\n",
      "photo-3506_singular_display_fullPicture.jpeg\n",
      "photo-3509_singular_display_fullPicture.jpeg\n",
      "photo-3512_singular_display_fullPicture.jpeg\n",
      "photo-3515_singular_display_fullPicture.jpeg\n",
      "photo-3518_singular_display_fullPicture.jpeg\n",
      "photo-3521_singular_display_fullPicture.jpeg\n",
      "photo-3524_singular_display_fullPicture.jpeg\n",
      "photo-3527_singular_display_fullPicture.jpeg\n",
      "photo-3530_singular_display_fullPicture.jpeg\n",
      "photo-3533_singular_display_fullPicture.jpeg\n",
      "photo-3536_singular_display_fullPicture.jpeg\n",
      "photo-3539_singular_display_fullPicture.jpeg\n",
      "photo-3542_singular_display_fullPicture.jpeg\n",
      "photo-3545_singular_display_fullPicture.jpeg\n",
      "photo-3548_singular_display_fullPicture.jpeg\n",
      "photo-3551_singular_display_fullPicture.jpeg\n",
      "photo-3554_singular_display_fullPicture.jpeg\n",
      "photo-3557_singular_display_fullPicture.jpeg\n",
      "photo-3560_singular_display_fullPicture.jpeg\n",
      "photo-3563_singular_display_fullPicture.jpeg\n",
      "photo-3566_singular_display_fullPicture.jpeg\n",
      "photo-3569_singular_display_fullPicture.jpeg\n",
      "photo-3572_singular_display_fullPicture.jpeg\n",
      "photo-3575_singular_display_fullPicture.jpeg\n",
      "photo-3578_singular_display_fullPicture.jpeg\n",
      "photo-3581_singular_display_fullPicture.jpeg\n",
      "photo-3584_singular_display_fullPicture.jpeg\n",
      "photo-3587_singular_display_fullPicture.jpeg\n",
      "photo-3590_singular_display_fullPicture.jpeg\n",
      "video-3161_singular_display.mov\n",
      "video-3179_singular_display.mov\n",
      "video-3199_singular_display.mov\n",
      "video-3242_singular_display.mov\n"
     ]
    }
   ],
   "source": [
    "blob_list = container_client.list_blobs()\n",
    "for blob in blob_list:\n",
    "    print(blob.name)"
   ]
  }
 ],
 "metadata": {
  "kernelspec": {
   "display_name": "Python 3",
   "language": "python",
   "name": "python3"
  },
  "language_info": {
   "codemirror_mode": {
    "name": "ipython",
    "version": 3
   },
   "file_extension": ".py",
   "mimetype": "text/x-python",
   "name": "python",
   "nbconvert_exporter": "python",
   "pygments_lexer": "ipython3",
   "version": "3.10.4"
  }
 },
 "nbformat": 4,
 "nbformat_minor": 2
}
