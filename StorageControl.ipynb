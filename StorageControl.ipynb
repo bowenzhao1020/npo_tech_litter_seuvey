{
 "cells": [
  {
   "cell_type": "markdown",
   "metadata": {},
   "source": [
    "# Storage Control For Litter Survey"
   ]
  },
  {
   "cell_type": "markdown",
   "metadata": {},
   "source": [
    "Library Import"
   ]
  },
  {
   "cell_type": "code",
   "execution_count": 1,
   "metadata": {},
   "outputs": [],
   "source": [
    "# Azure storage system\n",
    "from azure.storage.blob import BlobServiceClient, BlobClient, ContainerClient\n",
    "\n",
    "# MySQL Database\n",
    "import mysql.connector\n",
    "\n",
    "# Panda visualize database\n",
    "import pandas as pd\n",
    "\n",
    "# Azure api encrypt data file\n",
    "import authInfo\n",
    "\n",
    "import os"
   ]
  },
  {
   "cell_type": "markdown",
   "metadata": {},
   "source": [
    "Connect blob Storage"
   ]
  },
  {
   "cell_type": "code",
   "execution_count": 2,
   "metadata": {},
   "outputs": [],
   "source": [
    "# load api access variable\n",
    "account_name = authInfo.azure_account_name\n",
    "account_key = authInfo.azure_account_key\n",
    "container_name = authInfo.azure_container_name\n",
    "\n",
    "# Create Blob Service Client\n",
    "blob_service_client = BlobServiceClient(account_url = f\"https://{account_name}.blob.core.windows.net\", credential = account_key)\n",
    "# Create a Container Client\n",
    "container_client = blob_service_client.get_container_client(container_name)"
   ]
  },
  {
   "cell_type": "markdown",
   "metadata": {},
   "source": [
    "Connection to MySQL Database"
   ]
  },
  {
   "cell_type": "code",
   "execution_count": null,
   "metadata": {},
   "outputs": [],
   "source": [
    "mysql_host = authInfo.sql_host\n",
    "mysql_user = authInfo.sql_user\n",
    "mysql_password = authInfo.sql_password\n",
    "mysql_database = authInfo.sql_database\n",
    "\n",
    "# print(mysql_database)\n",
    "\n",
    "db_config = {\n",
    "    'host' : authInfo.sql_host,\n",
    "    'user' : authInfo.sql_user,\n",
    "    'password' : authInfo.sql_password,\n",
    "    'database' : authInfo.sql_database\n",
    "}\n",
    "\n",
    "# Establish a connection\n",
    "connection = mysql.connector.connect(**db_config)\n",
    "\n",
    "# Create a cursor object\n",
    "cursor = connection.cursor()"
   ]
  },
  {
   "cell_type": "code",
   "execution_count": null,
   "metadata": {},
   "outputs": [],
   "source": [
    "# table creation\n",
    "# table_name = 'litter_survey_annotation_data_sheet'\n",
    "# create_table_query = f\"\"\"\n",
    "#                     CREATE TABLE {table_name} (\n",
    "#                         id INT AUTO_INCREMENT PRIMARY KEY,\n",
    "#                         image_url VARCHAR(255) UNIQUE,\n",
    "#                         contain_trash ENUM('Y', 'N'),\n",
    "#                         trash_annotations JSON,\n",
    "#                         geo_location VARCHAR(255),\n",
    "#                         lighting_condition VARCHAR(255),\n",
    "#                         background_type VARCHAR(255),\n",
    "#                         collection_date DATE,\n",
    "#                         annotation_date DATE,\n",
    "#                         annotation_version VARCHAR(10)\n",
    "#                     );\n",
    "#                     \"\"\"\n",
    "\n",
    "# table update\n",
    "# insert_table_query = \"\"\"\n",
    "#                     INSERT INTO litter_survey_annotation_data_sheet (image_url, contain_trash, trash_annotations, geo_location, lighting_condition, background_type, collection_date, annotation_date, annotation_version)\n",
    "#                     VALUES \n",
    "#                     ('image1.jpg', 'Y', '[{\"label\": \"plastic food wrap\", \"x\": 304, \"y\": 124},{\"label\": \"bottle\", \"x\": 134, \"y\": 345}]', 'Location A', 'Daylight', 'Outdoor', '2023-01-01', '2023-01-15', '1.0'),\n",
    "#                     ('image2.jpg', 'N', '[{\"label\": \"paper cup\", \"x\": 200, \"y\": 150},{\"label\": \"cigarette butt\", \"x\": 180, \"y\": 220}]', 'Location B', 'Night', 'Indoor', '2023-01-02', '2023-01-16', '1.1'),\n",
    "#                     ('image3.jpg', 'Y', '[{\"label\": \"plastic bottle\", \"x\": 50, \"y\": 100},{\"label\": \"chip bag\", \"x\": 120, \"y\": 180}]', 'Location C', 'Daylight', 'Outdoor', '2023-01-03', '2023-01-17', '1.2');\n",
    "#                     \"\"\""
   ]
  },
  {
   "cell_type": "code",
   "execution_count": null,
   "metadata": {},
   "outputs": [],
   "source": [
    "# # Execute the CREATE TABLE query\n",
    "# cursor.execute(insert_table_query)\n",
    "\n",
    "# # Commit the transaction\n",
    "# connection.commit()"
   ]
  },
  {
   "cell_type": "code",
   "execution_count": null,
   "metadata": {},
   "outputs": [],
   "source": [
    "# # Show tables in the specified schema\n",
    "# show_tables_query = f\"SHOW TABLES FROM {authInfo.sql_database};\"\n",
    "# cursor.execute(show_tables_query)\n",
    "\n",
    "# # Fetch the result\n",
    "# tables = cursor.fetchall()\n",
    "\n",
    "# # Print the list of tables\n",
    "# print(\"Tables in the schema:\")\n",
    "# for table in tables:\n",
    "#     print(table[0])"
   ]
  },
  {
   "cell_type": "code",
   "execution_count": null,
   "metadata": {},
   "outputs": [],
   "source": [
    "# Define your SQL query\n",
    "sql_query = \"SELECT * FROM litter_survey_annotation_data_sheet\"\n",
    "\n",
    "# Fetch the data into a DataFrame\n",
    "df = pd.read_sql(sql_query, connection)\n",
    "\n",
    "# Display the DataFrame\n",
    "df.head()  # Use df.head() to display the first few rows of the DataFrame"
   ]
  },
  {
   "cell_type": "code",
   "execution_count": null,
   "metadata": {},
   "outputs": [],
   "source": [
    "# Close the cursor and connection\n",
    "cursor.close()\n",
    "connection.close()"
   ]
  },
  {
   "cell_type": "markdown",
   "metadata": {},
   "source": [
    "Get data info from cloud"
   ]
  },
  {
   "cell_type": "code",
   "execution_count": 5,
   "metadata": {},
   "outputs": [],
   "source": [
    "# Specify the local directory where you want to download the files\n",
    "local_directory = 'your_local_directory'\n",
    "\n",
    "# Ensure the local directory exists, or create it if not\n",
    "os.makedirs(local_directory, exist_ok=True)"
   ]
  },
  {
   "cell_type": "code",
   "execution_count": null,
   "metadata": {},
   "outputs": [],
   "source": [
    "blob_list = container_client.list_blobs()\n",
    "\n",
    "# Download each blob\n",
    "for blob in blob_list:\n",
    "    blob_client = container_client.get_blob_client(blob.name)\n",
    "\n",
    "    # Specify the local file path for each downloaded file\n",
    "    local_file_path = os.path.join(local_directory, blob.name)\n",
    "\n",
    "    # Download the blob to the specified local file path\n",
    "    with open(local_file_path, 'wb') as local_file:\n",
    "        blob_data = blob_client.download_blob()\n",
    "        local_file.write(blob_data.readall())\n",
    "\n",
    "    print(f\"Downloaded: {blob.name} to {local_file_path}\")\n",
    "\n",
    "    # blob_client.delete_blob()\n",
    "    # print(f\"Deleted: {blob.name}\")"
   ]
  },
  {
   "cell_type": "code",
   "execution_count": null,
   "metadata": {},
   "outputs": [],
   "source": [
    "blob_list = container_client.list_blobs()\n",
    "file_amount = 0\n",
    "for blob in blob_list:\n",
    "    print(blob.name)\n",
    "    file_amount += 1\n",
    "print(file_amount)"
   ]
  }
 ],
 "metadata": {
  "kernelspec": {
   "display_name": "Python 3",
   "language": "python",
   "name": "python3"
  },
  "language_info": {
   "codemirror_mode": {
    "name": "ipython",
    "version": 3
   },
   "file_extension": ".py",
   "mimetype": "text/x-python",
   "name": "python",
   "nbconvert_exporter": "python",
   "pygments_lexer": "ipython3",
   "version": "3.10.4"
  }
 },
 "nbformat": 4,
 "nbformat_minor": 2
}
