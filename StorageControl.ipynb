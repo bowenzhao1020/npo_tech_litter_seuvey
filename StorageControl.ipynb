{
 "cells": [
  {
   "cell_type": "markdown",
   "metadata": {},
   "source": [
    "# Storage Control For Litter Survey"
   ]
  },
  {
   "cell_type": "markdown",
   "metadata": {},
   "source": [
    "Library Import"
   ]
  },
  {
   "cell_type": "code",
   "execution_count": 1,
   "metadata": {},
   "outputs": [],
   "source": [
    "# Azure storage system\n",
    "from azure.storage.blob import BlobServiceClient, BlobClient, ContainerClient\n",
    "\n",
    "# MySQL Database\n",
    "import mysql.connector\n",
    "\n",
    "# Panda visualize database\n",
    "import pandas as pd\n",
    "\n",
    "# Azure api encrypt data file\n",
    "import authInfo"
   ]
  },
  {
   "cell_type": "markdown",
   "metadata": {},
   "source": [
    "Connect blob Storage"
   ]
  },
  {
   "cell_type": "code",
   "execution_count": 2,
   "metadata": {},
   "outputs": [],
   "source": [
    "# load api access variable\n",
    "account_name = authInfo.azure_account_name\n",
    "account_key = authInfo.azure_account_key\n",
    "container_name = authInfo.azure_container_name\n",
    "\n",
    "# Create Blob Service Client\n",
    "blob_service_client = BlobServiceClient(account_url = f\"https://{account_name}.blob.core.windows.net\", credential = account_key)\n",
    "# Create a Container Client\n",
    "container_client = blob_service_client.get_container_client(container_name)"
   ]
  },
  {
   "cell_type": "markdown",
   "metadata": {},
   "source": [
    "Connection to MySQL Database"
   ]
  },
  {
   "cell_type": "code",
   "execution_count": 3,
   "metadata": {},
   "outputs": [],
   "source": [
    "mysql_host = authInfo.sql_host\n",
    "mysql_user = authInfo.sql_user\n",
    "mysql_password = authInfo.sql_password\n",
    "mysql_database = authInfo.sql_database\n",
    "\n",
    "# print(mysql_database)\n",
    "\n",
    "db_config = {\n",
    "    'host' : authInfo.sql_host,\n",
    "    'user' : authInfo.sql_user,\n",
    "    'password' : authInfo.sql_password,\n",
    "    'database' : authInfo.sql_database\n",
    "}\n",
    "\n",
    "# Establish a connection\n",
    "connection = mysql.connector.connect(**db_config)\n",
    "\n",
    "# Create a cursor object\n",
    "cursor = connection.cursor()"
   ]
  },
  {
   "cell_type": "code",
   "execution_count": null,
   "metadata": {},
   "outputs": [],
   "source": [
    "# table creation\n",
    "# table_name = 'litter_survey_annotation_data_sheet'\n",
    "# create_table_query = f\"\"\"\n",
    "#                     CREATE TABLE {table_name} (\n",
    "#                         id INT AUTO_INCREMENT PRIMARY KEY,\n",
    "#                         image_url VARCHAR(255) UNIQUE,\n",
    "#                         contain_trash ENUM('Y', 'N'),\n",
    "#                         trash_annotations JSON,\n",
    "#                         geo_location VARCHAR(255),\n",
    "#                         lighting_condition VARCHAR(255),\n",
    "#                         background_type VARCHAR(255),\n",
    "#                         collection_date DATE,\n",
    "#                         annotation_date DATE,\n",
    "#                         annotation_version VARCHAR(10)\n",
    "#                     );\n",
    "#                     \"\"\"\n",
    "\n",
    "# table update\n",
    "# insert_table_query = \"\"\"\n",
    "#                     INSERT INTO litter_survey_annotation_data_sheet (image_url, contain_trash, trash_annotations, geo_location, lighting_condition, background_type, collection_date, annotation_date, annotation_version)\n",
    "#                     VALUES \n",
    "#                     ('image1.jpg', 'Y', '[{\"label\": \"plastic food wrap\", \"x\": 304, \"y\": 124},{\"label\": \"bottle\", \"x\": 134, \"y\": 345}]', 'Location A', 'Daylight', 'Outdoor', '2023-01-01', '2023-01-15', '1.0'),\n",
    "#                     ('image2.jpg', 'N', '[{\"label\": \"paper cup\", \"x\": 200, \"y\": 150},{\"label\": \"cigarette butt\", \"x\": 180, \"y\": 220}]', 'Location B', 'Night', 'Indoor', '2023-01-02', '2023-01-16', '1.1'),\n",
    "#                     ('image3.jpg', 'Y', '[{\"label\": \"plastic bottle\", \"x\": 50, \"y\": 100},{\"label\": \"chip bag\", \"x\": 120, \"y\": 180}]', 'Location C', 'Daylight', 'Outdoor', '2023-01-03', '2023-01-17', '1.2');\n",
    "#                     \"\"\""
   ]
  },
  {
   "cell_type": "code",
   "execution_count": null,
   "metadata": {},
   "outputs": [],
   "source": [
    "# # Execute the CREATE TABLE query\n",
    "# cursor.execute(insert_table_query)\n",
    "\n",
    "# # Commit the transaction\n",
    "# connection.commit()"
   ]
  },
  {
   "cell_type": "code",
   "execution_count": null,
   "metadata": {},
   "outputs": [],
   "source": [
    "# # Show tables in the specified schema\n",
    "# show_tables_query = f\"SHOW TABLES FROM {authInfo.sql_database};\"\n",
    "# cursor.execute(show_tables_query)\n",
    "\n",
    "# # Fetch the result\n",
    "# tables = cursor.fetchall()\n",
    "\n",
    "# # Print the list of tables\n",
    "# print(\"Tables in the schema:\")\n",
    "# for table in tables:\n",
    "#     print(table[0])"
   ]
  },
  {
   "cell_type": "code",
   "execution_count": 4,
   "metadata": {},
   "outputs": [
    {
     "name": "stderr",
     "output_type": "stream",
     "text": [
      "C:\\Users\\zbw10\\AppData\\Local\\Temp\\ipykernel_33616\\1592819418.py:5: UserWarning: pandas only supports SQLAlchemy connectable (engine/connection) or database string URI or sqlite3 DBAPI2 connection. Other DBAPI2 objects are not tested. Please consider using SQLAlchemy.\n",
      "  df = pd.read_sql(sql_query, connection)\n"
     ]
    },
    {
     "data": {
      "text/html": [
       "<div>\n",
       "<style scoped>\n",
       "    .dataframe tbody tr th:only-of-type {\n",
       "        vertical-align: middle;\n",
       "    }\n",
       "\n",
       "    .dataframe tbody tr th {\n",
       "        vertical-align: top;\n",
       "    }\n",
       "\n",
       "    .dataframe thead th {\n",
       "        text-align: right;\n",
       "    }\n",
       "</style>\n",
       "<table border=\"1\" class=\"dataframe\">\n",
       "  <thead>\n",
       "    <tr style=\"text-align: right;\">\n",
       "      <th></th>\n",
       "      <th>id</th>\n",
       "      <th>image_url</th>\n",
       "      <th>contain_trash</th>\n",
       "      <th>trash_annotations</th>\n",
       "      <th>geo_location</th>\n",
       "      <th>lighting_condition</th>\n",
       "      <th>background_type</th>\n",
       "      <th>collection_date</th>\n",
       "      <th>annotation_date</th>\n",
       "      <th>annotation_version</th>\n",
       "    </tr>\n",
       "  </thead>\n",
       "  <tbody>\n",
       "    <tr>\n",
       "      <th>0</th>\n",
       "      <td>1</td>\n",
       "      <td>image1.jpg</td>\n",
       "      <td>Y</td>\n",
       "      <td>[{\"x\": 304, \"y\": 124, \"label\": \"plastic food w...</td>\n",
       "      <td>Location A</td>\n",
       "      <td>Daylight</td>\n",
       "      <td>Outdoor</td>\n",
       "      <td>2023-01-01</td>\n",
       "      <td>2023-01-15</td>\n",
       "      <td>1.0</td>\n",
       "    </tr>\n",
       "    <tr>\n",
       "      <th>1</th>\n",
       "      <td>2</td>\n",
       "      <td>image2.jpg</td>\n",
       "      <td>N</td>\n",
       "      <td>[{\"x\": 200, \"y\": 150, \"label\": \"paper cup\"}, {...</td>\n",
       "      <td>Location B</td>\n",
       "      <td>Night</td>\n",
       "      <td>Indoor</td>\n",
       "      <td>2023-01-02</td>\n",
       "      <td>2023-01-16</td>\n",
       "      <td>1.1</td>\n",
       "    </tr>\n",
       "    <tr>\n",
       "      <th>2</th>\n",
       "      <td>3</td>\n",
       "      <td>image3.jpg</td>\n",
       "      <td>Y</td>\n",
       "      <td>[{\"x\": 50, \"y\": 100, \"label\": \"plastic bottle\"...</td>\n",
       "      <td>Location C</td>\n",
       "      <td>Daylight</td>\n",
       "      <td>Outdoor</td>\n",
       "      <td>2023-01-03</td>\n",
       "      <td>2023-01-17</td>\n",
       "      <td>1.2</td>\n",
       "    </tr>\n",
       "  </tbody>\n",
       "</table>\n",
       "</div>"
      ],
      "text/plain": [
       "   id   image_url contain_trash  \\\n",
       "0   1  image1.jpg             Y   \n",
       "1   2  image2.jpg             N   \n",
       "2   3  image3.jpg             Y   \n",
       "\n",
       "                                   trash_annotations geo_location  \\\n",
       "0  [{\"x\": 304, \"y\": 124, \"label\": \"plastic food w...   Location A   \n",
       "1  [{\"x\": 200, \"y\": 150, \"label\": \"paper cup\"}, {...   Location B   \n",
       "2  [{\"x\": 50, \"y\": 100, \"label\": \"plastic bottle\"...   Location C   \n",
       "\n",
       "  lighting_condition background_type collection_date annotation_date  \\\n",
       "0           Daylight         Outdoor      2023-01-01      2023-01-15   \n",
       "1              Night          Indoor      2023-01-02      2023-01-16   \n",
       "2           Daylight         Outdoor      2023-01-03      2023-01-17   \n",
       "\n",
       "  annotation_version  \n",
       "0                1.0  \n",
       "1                1.1  \n",
       "2                1.2  "
      ]
     },
     "execution_count": 4,
     "metadata": {},
     "output_type": "execute_result"
    }
   ],
   "source": [
    "# Define your SQL query\n",
    "sql_query = \"SELECT * FROM litter_survey_annotation_data_sheet\"\n",
    "\n",
    "# Fetch the data into a DataFrame\n",
    "df = pd.read_sql(sql_query, connection)\n",
    "\n",
    "# Display the DataFrame\n",
    "df.head()  # Use df.head() to display the first few rows of the DataFrame"
   ]
  },
  {
   "cell_type": "code",
   "execution_count": null,
   "metadata": {},
   "outputs": [],
   "source": [
    "# Close the cursor and connection\n",
    "cursor.close()\n",
    "connection.close()"
   ]
  },
  {
   "cell_type": "markdown",
   "metadata": {},
   "source": [
    "Get data info from cloud"
   ]
  },
  {
   "cell_type": "code",
   "execution_count": null,
   "metadata": {},
   "outputs": [],
   "source": [
    "blob_list = container_client.list_blobs()\n",
    "for blob in blob_list:\n",
    "    print(blob.name)"
   ]
  }
 ],
 "metadata": {
  "kernelspec": {
   "display_name": "Python 3",
   "language": "python",
   "name": "python3"
  },
  "language_info": {
   "codemirror_mode": {
    "name": "ipython",
    "version": 3
   },
   "file_extension": ".py",
   "mimetype": "text/x-python",
   "name": "python",
   "nbconvert_exporter": "python",
   "pygments_lexer": "ipython3",
   "version": "3.10.4"
  }
 },
 "nbformat": 4,
 "nbformat_minor": 2
}
